{
 "cells": [
  {
   "cell_type": "markdown",
   "id": "7c4ac386",
   "metadata": {},
   "source": [
    "[![Open In Colab](https://colab.research.google.com/assets/colab-badge.svg)](https://colab.research.google.com/github/baloghartur3/speaker-recognition/blob/main/Big_Homework.ipynb)"
   ]
  },
  {
   "cell_type": "markdown",
   "id": "82e94ce1",
   "metadata": {},
   "source": [
    "# Voice recognition"
   ]
  },
  {
   "cell_type": "markdown",
   "id": "c0f414f7",
   "metadata": {},
   "source": [
    "This notebook contains a deep learning solution for speaker recognition. It uses the VoxCeleb1 dataset, which contains the audio recordings of 1251 people."
   ]
  },
  {
   "cell_type": "markdown",
   "id": "f25d34ac",
   "metadata": {},
   "source": [
    "### Reading the .csv file that contains the name for each ID"
   ]
  },
  {
   "cell_type": "markdown",
   "id": "34fff466",
   "metadata": {},
   "source": [
    "Each person has its own unique ID by which their sound files can be identified.\n",
    "The ID - Name connection is stored in the .cvs file below.\n",
    "\n",
    "The \"vox1_meta.cvs\" file needs to be in the working dir."
   ]
  },
  {
   "cell_type": "code",
   "execution_count": 1,
   "id": "a0d94c3c",
   "metadata": {},
   "outputs": [
    {
     "data": {
      "text/html": [
       "<div>\n",
       "<style scoped>\n",
       "    .dataframe tbody tr th:only-of-type {\n",
       "        vertical-align: middle;\n",
       "    }\n",
       "\n",
       "    .dataframe tbody tr th {\n",
       "        vertical-align: top;\n",
       "    }\n",
       "\n",
       "    .dataframe thead th {\n",
       "        text-align: right;\n",
       "    }\n",
       "</style>\n",
       "<table border=\"1\" class=\"dataframe\">\n",
       "  <thead>\n",
       "    <tr style=\"text-align: right;\">\n",
       "      <th></th>\n",
       "      <th>relative_path</th>\n",
       "      <th>name</th>\n",
       "    </tr>\n",
       "  </thead>\n",
       "  <tbody>\n",
       "    <tr>\n",
       "      <th>0</th>\n",
       "      <td>wav\\id10001\\</td>\n",
       "      <td>A.J._Buckley</td>\n",
       "    </tr>\n",
       "    <tr>\n",
       "      <th>1</th>\n",
       "      <td>wav\\id10002\\</td>\n",
       "      <td>A.R._Rahman</td>\n",
       "    </tr>\n",
       "    <tr>\n",
       "      <th>2</th>\n",
       "      <td>wav\\id10003\\</td>\n",
       "      <td>Aamir_Khan</td>\n",
       "    </tr>\n",
       "    <tr>\n",
       "      <th>3</th>\n",
       "      <td>wav\\id10004\\</td>\n",
       "      <td>Aaron_Tveit</td>\n",
       "    </tr>\n",
       "    <tr>\n",
       "      <th>4</th>\n",
       "      <td>wav\\id10005\\</td>\n",
       "      <td>Aaron_Yoo</td>\n",
       "    </tr>\n",
       "    <tr>\n",
       "      <th>...</th>\n",
       "      <td>...</td>\n",
       "      <td>...</td>\n",
       "    </tr>\n",
       "    <tr>\n",
       "      <th>1246</th>\n",
       "      <td>wav\\id11247\\</td>\n",
       "      <td>Zachary_Levi</td>\n",
       "    </tr>\n",
       "    <tr>\n",
       "      <th>1247</th>\n",
       "      <td>wav\\id11248\\</td>\n",
       "      <td>Zachary_Quinto</td>\n",
       "    </tr>\n",
       "    <tr>\n",
       "      <th>1248</th>\n",
       "      <td>wav\\id11249\\</td>\n",
       "      <td>Zack_Snyder</td>\n",
       "    </tr>\n",
       "    <tr>\n",
       "      <th>1249</th>\n",
       "      <td>wav\\id11250\\</td>\n",
       "      <td>Zoe_Saldana</td>\n",
       "    </tr>\n",
       "    <tr>\n",
       "      <th>1250</th>\n",
       "      <td>wav\\id11251\\</td>\n",
       "      <td>Zulay_Henao</td>\n",
       "    </tr>\n",
       "  </tbody>\n",
       "</table>\n",
       "<p>1251 rows × 2 columns</p>\n",
       "</div>"
      ],
      "text/plain": [
       "     relative_path            name\n",
       "0     wav\\id10001\\    A.J._Buckley\n",
       "1     wav\\id10002\\     A.R._Rahman\n",
       "2     wav\\id10003\\      Aamir_Khan\n",
       "3     wav\\id10004\\     Aaron_Tveit\n",
       "4     wav\\id10005\\       Aaron_Yoo\n",
       "...            ...             ...\n",
       "1246  wav\\id11247\\    Zachary_Levi\n",
       "1247  wav\\id11248\\  Zachary_Quinto\n",
       "1248  wav\\id11249\\     Zack_Snyder\n",
       "1249  wav\\id11250\\     Zoe_Saldana\n",
       "1250  wav\\id11251\\     Zulay_Henao\n",
       "\n",
       "[1251 rows x 2 columns]"
      ]
     },
     "execution_count": 1,
     "metadata": {},
     "output_type": "execute_result"
    }
   ],
   "source": [
    "import pandas as pd\n",
    "\n",
    "# The name of the columns, we need\n",
    "col_list = [\"VoxCeleb1 ID\", \"VGGFace1 ID\"]\n",
    "\n",
    "# Reading the file\n",
    "df = pd.read_csv(\"vox1_meta.csv\", usecols=col_list,sep='\\t')\n",
    "\n",
    "# We create a col with paths for each person's audio files\n",
    "df['relative_path'] ='wav\\\\' + df['VoxCeleb1 ID'].astype(str) + '\\\\'\n",
    "\n",
    "# Storing the names\n",
    "df['name'] = df['VGGFace1 ID']\n",
    "df = df[['relative_path', 'name']]\n",
    "df"
   ]
  },
  {
   "cell_type": "markdown",
   "id": "ebeb23e2",
   "metadata": {},
   "source": [
    "### Functions for audio file operations"
   ]
  },
  {
   "cell_type": "markdown",
   "id": "e35c5fc3",
   "metadata": {},
   "source": [
    "We need to create a function for opening the audio files and one for the audio augmentation.\n",
    "For these, we use wavfile and numpy as well"
   ]
  },
  {
   "cell_type": "code",
   "execution_count": 2,
   "id": "79f15d4b",
   "metadata": {},
   "outputs": [],
   "source": [
    "from scipy.io import wavfile\n",
    "import numpy as np\n",
    "\n",
    "# ----------------------------\n",
    "# Load an audio file. Return the signal as an array and the sample rate\n",
    "# ----------------------------\n",
    "def audio_open(audio_file):\n",
    "    # Reading the signal to sig, and the sampling rate to sr\n",
    "    sr, sig = wavfile.read(audio_file)\n",
    "    return (sig, sr)\n",
    "\n",
    "# ----------------------------\n",
    "# Pad (or truncate) the signal to a fixed length 'max_ms' in milliseconds and get multiple audio slices from aud (num_samples)\n",
    "# ----------------------------\n",
    "def pad_trunc(aud, num_samples, max_ms):\n",
    "    sig, sr = aud\n",
    "    sig_len = sig.shape[0]\n",
    "    max_len = sr//1000 * max_ms\n",
    "    sigs = []\n",
    "    \n",
    "    # If the length is shorter than the expected, we concatenate the whole audio to itself\n",
    "    if (sig_len < sr+max_len):\n",
    "        sig = np.concatenate((sig, sig))\n",
    "        sig_len = sig.shape[0]\n",
    "       \n",
    "    # Only in case of test and validation datasets\n",
    "    if num_samples == 1:\n",
    "        sigs = sig[sr:sr+max_len]\n",
    "    # Augmentation\n",
    "    else:\n",
    "        # Calculate the step size\n",
    "        contNum = int((sig_len-max_len)/(num_samples-1))\n",
    "        for i in range(0, sig_len, contNum):\n",
    "            if i == 0:\n",
    "                sigs.append(sig[:max_len])\n",
    "            elif len(sig[i:i+max_len])== sr*(max_ms/1000):\n",
    "                sigs.append(sig[i:i+max_len])\n",
    "\n",
    "    return (sigs, sr)"
   ]
  },
  {
   "cell_type": "raw",
   "id": "42908b71",
   "metadata": {},
   "source": [
    "The sound files are stored in a folder structure like this:\n",
    "\n",
    "---wav\n",
    "    +---id10001\n",
    "    |   +---1zcIwhmdeo4\n",
    "    |   |       00001.wav\n",
    "    |   |       00002.wav\n",
    "    |   |       00003.wav\n",
    "    |   |\n",
    "    |   +---7gWzIy6yIIk\n",
    "    |   |       00001.wav\n",
    "    |   |       00002.wav\n",
    "    |   |       00003.wav\n",
    "    |   |       00004.wav\n",
    "    |   |\n",
    "    +---id10002\n",
    "    |   +---0_laIeN-Q44\n",
    "    |   |       00001.wav\n",
    "    |   |\n",
    "    \n",
    "We need a function that finds all the audio files for a given person."
   ]
  },
  {
   "cell_type": "code",
   "execution_count": 3,
   "id": "128d149c",
   "metadata": {},
   "outputs": [],
   "source": [
    "import os\n",
    "\n",
    "# ----------------------------\n",
    "# For a given path, it iterates through its directories and subdirectories, searching for audio files\n",
    "# ----------------------------\n",
    "def iterate(path, wav_paths, classes, class_id):\n",
    "    count=0\n",
    "    rootdir = path #df.iloc[0]['relative_path']\n",
    "    for subdir, dirs, files in os.walk(rootdir):\n",
    "        for file in files:\n",
    "            wav_paths.append(os.path.join(subdir, file))\n",
    "            classes.append(class_id)\n",
    "            count+=1\n",
    "    return count"
   ]
  },
  {
   "cell_type": "markdown",
   "id": "37b905f5",
   "metadata": {},
   "source": [
    "### Data prepocessing"
   ]
  },
  {
   "cell_type": "markdown",
   "id": "f478b8fa",
   "metadata": {},
   "source": [
    "Because of the imbalanced dataset we need to equalize the quantity of the audio files for each person. For this we duplicate\n",
    "certain files.\n",
    "\n",
    "We can set the number recognizable people with the num_of_classes variable."
   ]
  },
  {
   "cell_type": "code",
   "execution_count": 4,
   "id": "6b7e196b",
   "metadata": {
    "scrolled": false
   },
   "outputs": [
    {
     "data": {
      "image/png": "[encoded data removed]",
      "text/plain": [
       "<Figure size 432x288 with 1 Axes>"
      ]
     },
     "metadata": {
      "needs_background": "light"
     },
     "output_type": "display_data"
    }
   ],
   "source": [
    "import matplotlib.pyplot as plt\n",
    "\n",
    "# Storing th dataset (can be imbalanced)\n",
    "wav_paths = []\n",
    "classes = []\n",
    "counts=[]\n",
    "\n",
    "# To store the balanced dataset\n",
    "new_class=[]\n",
    "new_wav_path=[]\n",
    "\n",
    "# Number of person we want to work with (up to ~1200)\n",
    "num_of_classes=50\n",
    "\n",
    "# Storing the paths for every audio files\n",
    "for i in range(num_of_classes):\n",
    "    temp=iterate(df.iloc[i]['relative_path'],wav_paths, classes, i)\n",
    "    counts.append(temp)\n",
    "    \n",
    "# List to array\n",
    "classes = np.array(classes)\n",
    "\n",
    "# Making hystogram for visualizing the dataset\n",
    "ls=[]\n",
    "for i in counts:\n",
    "    if i not in ls:\n",
    "        ls.append(i)\n",
    "plt.hist(ls, bins=len(ls), range=(0, 2000))\n",
    "plt.title(\"The histogram of the dataset\")\n",
    "plt.xlabel(\"Quantity of data\")\n",
    "plt.ylabel(\"Number of people\")\n",
    "plt.show()\n",
    "\n",
    "# Balancing the dataset\n",
    "temp=-1\n",
    "counter=10000\n",
    "\n",
    "for i in range(len(wav_paths)):\n",
    "    if temp!=classes[i]:\n",
    "        if counter<(int)(np.average(counts)+30):\n",
    "            start=i-counter\n",
    "            end = i-1\n",
    "            j=0\n",
    "            while counter < (int)(np.average(counts)+30):\n",
    "                new_wav_path.append(wav_paths[start+j])\n",
    "                new_class.append(classes[start+j])\n",
    "                j+=1\n",
    "                if start+j+1 >end:\n",
    "                    j=0\n",
    "                counter += 1\n",
    "        temp=classes[i]\n",
    "        counter=0\n",
    "    if counter<(int)(np.average(counts)+30):\n",
    "        new_wav_path.append(wav_paths[i])\n",
    "        new_class.append(classes[i])\n",
    "        counter+=1\n",
    "counter=0\n",
    "temp=-1"
   ]
  },
  {
   "cell_type": "markdown",
   "id": "95901d18",
   "metadata": {},
   "source": [
    "#### Splitting the dataset."
   ]
  },
  {
   "cell_type": "code",
   "execution_count": 5,
   "id": "4ade1d3d",
   "metadata": {},
   "outputs": [],
   "source": [
    "from sklearn.model_selection import train_test_split\n",
    "\n",
    "# Separation of train, test and validation data\n",
    "wav_train, wav_test, label_train, label_test = train_test_split(new_wav_path, new_class, test_size=0.1)\n",
    "wav_train, wav_val, label_train, label_val = train_test_split(wav_train, label_train, test_size=0.22)"
   ]
  },
  {
   "cell_type": "markdown",
   "id": "18594f6b",
   "metadata": {},
   "source": [
    "Here, we set the dimensions of the input audio data (the dt is the length of the audio (2s))"
   ]
  },
  {
   "cell_type": "code",
   "execution_count": 6,
   "id": "37c6d1d3",
   "metadata": {},
   "outputs": [],
   "source": [
    "from scipy import signal\n",
    "\n",
    "# The length of an audio data\n",
    "dt = 2\n",
    "# We process one audio file to get the input dimensions\n",
    "aud = audio_open(wav_train[0])\n",
    "aud, sr = pad_trunc(aud, 8, dt*1000)\n",
    "# Generating spectogram\n",
    "freq, time, spec = signal.spectrogram(aud[0], sr)\n",
    "spec = np.reshape(spec, (spec.shape[0], spec.shape[1], 1))\n",
    "# Getting the input dimension for the model\n",
    "dim = spec.shape"
   ]
  },
  {
   "cell_type": "markdown",
   "id": "6032d679",
   "metadata": {},
   "source": [
    "### Setting up a model for hyperopt"
   ]
  },
  {
   "cell_type": "markdown",
   "id": "2caedc1c",
   "metadata": {},
   "source": [
    "We made this model by starting from the ResNet-34 model, and also got some ideas from other speaker recognition solutions.\n",
    "The parameter ranges are based on our previous trainings and experiences."
   ]
  },
  {
   "cell_type": "code",
   "execution_count": 7,
   "id": "37d9f954",
   "metadata": {},
   "outputs": [],
   "source": [
    "from tensorflow.keras.layers import Activation, Dense, Flatten, Conv2D, MaxPooling2D, Dropout\n",
    "from tensorflow.keras.models import Sequential\n",
    "\n",
    "def build_model(hp):\n",
    "    filters1 = hp.Choice('filters1', [16, 32, 64, 128])\n",
    "    filters2 = hp.Choice('filters2', [32, 64, 128])\n",
    "    filters3 = hp.Choice('filters3', [64, 128, 256])\n",
    "    \n",
    "    model = Sequential()\n",
    "    model.add(Conv2D(filters1, (3, 3), padding='same', input_shape=dim))\n",
    "    model.add(Activation('relu'))\n",
    "    model.add(Conv2D(filters2, (3, 3)))\n",
    "    model.add(Activation('relu'))\n",
    "    model.add(MaxPooling2D(pool_size=(2, 2)))\n",
    "    model.add(Dropout(hp.Float('dropout1', min_value = 0, max_value=0.5, step=0.2)))\n",
    "    model.add(Conv2D(filters2, (3, 3), padding='same'))\n",
    "    model.add(Activation('relu'))\n",
    "    model.add(Conv2D(filters2, (3, 3)))\n",
    "    model.add(Activation('relu'))\n",
    "    model.add(MaxPooling2D(pool_size=(2, 2)))\n",
    "    model.add(Dropout(hp.Float('dropout2', min_value = 0, max_value=0.5, step=0.2)))\n",
    "    model.add(Conv2D(filters3, (3, 3), padding='same'))\n",
    "    model.add(Activation('relu'))\n",
    "    model.add(Conv2D(filters3, (3, 3)))\n",
    "    model.add(Activation('relu'))\n",
    "    model.add(MaxPooling2D(pool_size=(2, 2)))\n",
    "    model.add(Dropout(hp.Float('dropout3', min_value = 0, max_value=0.5, step=0.2)))\n",
    "    model.add(Flatten())\n",
    "    model.add(Dense(hp.Choice('units', [64, 128, 256, 512])))\n",
    "    model.add(Activation('relu'))\n",
    "    model.add(Dropout(hp.Float('dropout4', min_value = 0, max_value=0.5, step=0.2)))\n",
    "    model.add(Dense(num_of_classes, activation='softmax'))\n",
    "    model.compile(loss='categorical_crossentropy', optimizer='adam', metrics=['accuracy'])\n",
    "    return model"
   ]
  },
  {
   "cell_type": "markdown",
   "id": "f34b8448",
   "metadata": {},
   "source": [
    "### Data generators"
   ]
  },
  {
   "cell_type": "markdown",
   "id": "b90a8407",
   "metadata": {},
   "source": [
    "Creating the data generators, that handles the augmentation and creating spectrograms as well."
   ]
  },
  {
   "cell_type": "code",
   "execution_count": 8,
   "id": "868b9872",
   "metadata": {},
   "outputs": [],
   "source": [
    "from tensorflow.keras.utils import to_categorical\n",
    "import tensorflow as tf\n",
    "\n",
    "# ----------------------------\n",
    "# Data generator for the train dataset\n",
    "# ----------------------------\n",
    "class TrainDataGenerator(tf.keras.utils.Sequence):\n",
    "    def __init__(self, wav_paths, labels, sr, dt, n_classes, scaler, augmentation_size=4,\n",
    "                 batch_size=32, shuffle=True):\n",
    "        self.wav_paths = wav_paths\n",
    "        self.labels = labels\n",
    "        self.sr = sr\n",
    "        self.dt = dt\n",
    "        self.augmentation_size= augmentation_size\n",
    "        self.n_classes = n_classes\n",
    "        self.batch_size = batch_size\n",
    "        self.shuffle = True\n",
    "        self.on_epoch_end()\n",
    "\n",
    "    # ----------------------------\n",
    "    # The length of the loaded dataset after the augmentation\n",
    "    # ----------------------------\n",
    "    def __len__(self):\n",
    "        return int(np.floor((len(self.wav_paths)*self.augmentation_size) / self.batch_size))\n",
    "\n",
    "\n",
    "    def __getitem__(self, index):\n",
    "        indexes = self.indexes[index*(self.batch_size//self.augmentation_size):(index+1)*(self.batch_size//self.augmentation_size)]\n",
    "\n",
    "        wav_paths = [self.wav_paths[k] for k in indexes]\n",
    "        labels = [self.labels[k] for k in indexes]\n",
    "        \n",
    "        # Generate a batch of time data\n",
    "        X = np.empty((self.batch_size,dim[0],dim[1], 1), dtype=np.float32)\n",
    "        Y = np.empty((self.batch_size, self.n_classes), dtype=np.float32)\n",
    "        \n",
    "        p = 0\n",
    "        for i, (path, label) in enumerate(zip(wav_paths, labels)):\n",
    "            aud = audio_open(path)\n",
    "            aud, sr = pad_trunc(aud,self.augmentation_size, self.dt*1000)\n",
    "            for k in range(self.augmentation_size):\n",
    "                freq, time, spec = signal.spectrogram(aud[k], sr)\n",
    "                spec = np.reshape(spec, (spec.shape[0], spec.shape[1], 1))\n",
    "                X[p,] = spec\n",
    "                Y[p,] = to_categorical(label, num_classes=self.n_classes)\n",
    "                p += 1\n",
    "       \n",
    "        X = scaler.fit_transform(X.reshape(-1, X.shape[-1])).reshape(X.shape) \n",
    "        return X, Y\n",
    "    \n",
    "    def on_epoch_end(self):\n",
    "        self.indexes = np.arange(len(self.wav_paths))\n",
    "        if self.shuffle:\n",
    "            np.random.shuffle(self.indexes)"
   ]
  },
  {
   "cell_type": "markdown",
   "id": "67610c8c",
   "metadata": {},
   "source": [
    "The data generator below is for the validation and test dataset. It has a few differences from the one above. The most important one is that it slices the audio files differently, so we dont have to worry about the similarities of the train and test datasets."
   ]
  },
  {
   "cell_type": "code",
   "execution_count": 9,
   "id": "6e312201",
   "metadata": {},
   "outputs": [],
   "source": [
    "# ----------------------------\n",
    "# Data generator for the validation and test dataset\n",
    "# ----------------------------\n",
    "class ValDataGenerator(tf.keras.utils.Sequence):\n",
    "    def __init__(self, wav_paths, labels, sr, dt, n_classes, scaler,\n",
    "                 batch_size=1, shuffle=False):\n",
    "        self.wav_paths = wav_paths\n",
    "        self.labels = labels\n",
    "        self.sr = sr\n",
    "        self.dt = dt\n",
    "        self.n_classes = n_classes\n",
    "        self.batch_size = batch_size\n",
    "        self.shuffle = False\n",
    "        self.on_epoch_end()\n",
    "\n",
    "\n",
    "    def __len__(self):\n",
    "        return int(np.floor((len(self.wav_paths)) / self.batch_size))\n",
    "\n",
    "\n",
    "    def __getitem__(self, index):\n",
    "        indexes = self.indexes[index*(self.batch_size):(index+1)*(self.batch_size)]\n",
    "\n",
    "        wav_paths = [self.wav_paths[k] for k in indexes]\n",
    "        labels = [self.labels[k] for k in indexes]\n",
    "        \n",
    "        # Generate a batch of time data\n",
    "        X = np.empty((self.batch_size, dim[0],dim[1], 1), dtype=np.float32)\n",
    "        Y = np.empty((self.batch_size, self.n_classes), dtype=np.float32)\n",
    "        \n",
    "        p = 0\n",
    "        for i, (path, label) in enumerate(zip(wav_paths, labels)):\n",
    "            aud = audio_open(path)\n",
    "            aud, sr = pad_trunc(aud, 1, dt*1000)\n",
    "            freq, time, spec = signal.spectrogram(aud, sr)\n",
    "            spec = np.reshape(spec, (spec.shape[0], spec.shape[1], 1))\n",
    "            X[p,] = spec\n",
    "            Y[p,] = to_categorical(label, num_classes=self.n_classes)\n",
    "            p += 1\n",
    "        \n",
    "        X = scaler.transform(X.reshape(-1, X.shape[-1])).reshape(X.shape) #TODO csak a traint transform!\n",
    "        return X, Y\n",
    "    \n",
    "    def on_epoch_end(self):\n",
    "        self.indexes = np.arange(len(self.wav_paths))\n",
    "        if self.shuffle:\n",
    "            np.random.shuffle(self.indexes)"
   ]
  },
  {
   "cell_type": "markdown",
   "id": "4b2a780f",
   "metadata": {},
   "source": [
    "Data generator and standard scaler initialization:"
   ]
  },
  {
   "cell_type": "code",
   "execution_count": 10,
   "id": "d7d8a78c",
   "metadata": {},
   "outputs": [],
   "source": [
    "from sklearn import preprocessing\n",
    "\n",
    "# Standardization and generator init\n",
    "scaler = preprocessing.StandardScaler()\n",
    "\n",
    "tg = TrainDataGenerator(wav_train, label_train, sr, dt,\n",
    "                       num_of_classes,augmentation_size=8, scaler=scaler, batch_size=32)\n",
    "vg = ValDataGenerator(wav_val, label_val, sr, dt,\n",
    "                       num_of_classes, scaler=scaler, batch_size=32)\n",
    "testg = ValDataGenerator(wav_test, label_test, sr, dt,\n",
    "                       num_of_classes, scaler=scaler, batch_size=1)"
   ]
  },
  {
   "cell_type": "markdown",
   "id": "96c5e7b3",
   "metadata": {},
   "source": [
    "### Running keras-tuner with two algorithms"
   ]
  },
  {
   "cell_type": "markdown",
   "id": "0e6a0a2e",
   "metadata": {},
   "source": [
    "Hyperparameter optimalization with Hyperband and BayesianOptimization to get the best possible results.\n",
    "For this, we used keras_tuner because of the ease of implementation.\n",
    "We added TensorBoard callback for better visualization."
   ]
  },
  {
   "cell_type": "code",
   "execution_count": 11,
   "id": "9a751094",
   "metadata": {},
   "outputs": [
    {
     "name": "stdout",
     "output_type": "stream",
     "text": [
      "INFO:tensorflow:Reloading Oracle from existing project .\\BO_project\\oracle.json\n",
      "INFO:tensorflow:Reloading Tuner from .\\BO_project\\tuner0.json\n",
      "INFO:tensorflow:Oracle triggered exit\n",
      "Results summary\n",
      "Results in .\\BO_project\n",
      "Showing 10 best trials\n",
      "Objective(name='val_loss', direction='min')\n",
      "Trial summary\n",
      "Hyperparameters:\n",
      "filters1: 128\n",
      "filters2: 128\n",
      "filters3: 64\n",
      "dropout1: 0.0\n",
      "dropout2: 0.4\n",
      "dropout3: 0.4\n",
      "units: 512\n",
      "dropout4: 0.0\n",
      "Score: 1.1371098756790161\n",
      "Trial summary\n",
      "Hyperparameters:\n",
      "filters1: 128\n",
      "filters2: 32\n",
      "filters3: 64\n",
      "dropout1: 0.4\n",
      "dropout2: 0.4\n",
      "dropout3: 0.4\n",
      "units: 512\n",
      "dropout4: 0.0\n",
      "Score: 1.2093729972839355\n",
      "Trial summary\n",
      "Hyperparameters:\n",
      "filters1: 32\n",
      "filters2: 32\n",
      "filters3: 128\n",
      "dropout1: 0.0\n",
      "dropout2: 0.4\n",
      "dropout3: 0.4\n",
      "units: 256\n",
      "dropout4: 0.0\n",
      "Score: 1.2180887460708618\n",
      "Trial summary\n",
      "Hyperparameters:\n",
      "filters1: 128\n",
      "filters2: 32\n",
      "filters3: 64\n",
      "dropout1: 0.0\n",
      "dropout2: 0.4\n",
      "dropout3: 0.4\n",
      "units: 512\n",
      "dropout4: 0.4\n",
      "Score: 1.253487467765808\n",
      "Trial summary\n",
      "Hyperparameters:\n",
      "filters1: 128\n",
      "filters2: 32\n",
      "filters3: 128\n",
      "dropout1: 0.0\n",
      "dropout2: 0.0\n",
      "dropout3: 0.4\n",
      "units: 512\n",
      "dropout4: 0.0\n",
      "Score: 1.2588845491409302\n",
      "Trial summary\n",
      "Hyperparameters:\n",
      "filters1: 16\n",
      "filters2: 32\n",
      "filters3: 64\n",
      "dropout1: 0.2\n",
      "dropout2: 0.0\n",
      "dropout3: 0.4\n",
      "units: 512\n",
      "dropout4: 0.0\n",
      "Score: 1.3298125267028809\n",
      "Trial summary\n",
      "Hyperparameters:\n",
      "filters1: 128\n",
      "filters2: 32\n",
      "filters3: 64\n",
      "dropout1: 0.0\n",
      "dropout2: 0.4\n",
      "dropout3: 0.0\n",
      "units: 512\n",
      "dropout4: 0.0\n",
      "Score: 1.385288953781128\n",
      "Trial summary\n",
      "Hyperparameters:\n",
      "filters1: 128\n",
      "filters2: 32\n",
      "filters3: 64\n",
      "dropout1: 0.0\n",
      "dropout2: 0.4\n",
      "dropout3: 0.4\n",
      "units: 64\n",
      "dropout4: 0.0\n",
      "Score: 1.5522241592407227\n",
      "Trial summary\n",
      "Hyperparameters:\n",
      "filters1: 32\n",
      "filters2: 64\n",
      "filters3: 256\n",
      "dropout1: 0.0\n",
      "dropout2: 0.4\n",
      "dropout3: 0.0\n",
      "units: 64\n",
      "dropout4: 0.4\n",
      "Score: 2.0250866413116455\n",
      "Trial summary\n",
      "Hyperparameters:\n",
      "filters1: 16\n",
      "filters2: 128\n",
      "filters3: 64\n",
      "dropout1: 0.4\n",
      "dropout2: 0.4\n",
      "dropout3: 0.4\n",
      "units: 512\n",
      "dropout4: 0.0\n",
      "Score: 3.9106991291046143\n"
     ]
    }
   ],
   "source": [
    "from tensorflow.keras.callbacks import TensorBoard\n",
    "import keras_tuner as kt\n",
    "\n",
    "# Init tuner\n",
    "tuner = kt.BayesianOptimization(\n",
    "    build_model,\n",
    "    objective='val_loss',\n",
    "    max_trials=10,\n",
    "    project_name='BO_project')\n",
    "\n",
    "tuner.search(tg, epochs=10, validation_data=vg, callbacks=[TensorBoard(\"/tmp/BO_opt\")],)\n",
    "best_model_bo = tuner.get_best_models()[0]\n",
    "\n",
    "# Getting results\n",
    "tuner.results_summary()"
   ]
  },
  {
   "cell_type": "code",
   "execution_count": 12,
   "id": "728c40e0",
   "metadata": {},
   "outputs": [
    {
     "name": "stdout",
     "output_type": "stream",
     "text": [
      "INFO:tensorflow:Reloading Oracle from existing project .\\HB_project\\oracle.json\n",
      "INFO:tensorflow:Reloading Tuner from .\\HB_project\\tuner0.json\n",
      "INFO:tensorflow:Oracle triggered exit\n",
      "Results summary\n",
      "Results in .\\HB_project\n",
      "Showing 10 best trials\n",
      "Objective(name='val_loss', direction='min')\n",
      "Trial summary\n",
      "Hyperparameters:\n",
      "filters1: 64\n",
      "filters2: 128\n",
      "filters3: 64\n",
      "dropout1: 0.2\n",
      "dropout2: 0.0\n",
      "dropout3: 0.4\n",
      "units: 512\n",
      "dropout4: 0.4\n",
      "tuner/epochs: 10\n",
      "tuner/initial_epoch: 0\n",
      "tuner/bracket: 0\n",
      "tuner/round: 0\n",
      "Score: 1.166872262954712\n",
      "Trial summary\n",
      "Hyperparameters:\n",
      "filters1: 64\n",
      "filters2: 32\n",
      "filters3: 64\n",
      "dropout1: 0.2\n",
      "dropout2: 0.0\n",
      "dropout3: 0.4\n",
      "units: 512\n",
      "dropout4: 0.0\n",
      "tuner/epochs: 10\n",
      "tuner/initial_epoch: 4\n",
      "tuner/bracket: 2\n",
      "tuner/round: 2\n",
      "tuner/trial_id: 6ba1455faba4078dba49603f8256632e\n",
      "Score: 1.634844183921814\n",
      "Trial summary\n",
      "Hyperparameters:\n",
      "filters1: 32\n",
      "filters2: 32\n",
      "filters3: 128\n",
      "dropout1: 0.0\n",
      "dropout2: 0.0\n",
      "dropout3: 0.2\n",
      "units: 64\n",
      "dropout4: 0.2\n",
      "tuner/epochs: 10\n",
      "tuner/initial_epoch: 0\n",
      "tuner/bracket: 0\n",
      "tuner/round: 0\n",
      "Score: 1.636130928993225\n",
      "Trial summary\n",
      "Hyperparameters:\n",
      "filters1: 128\n",
      "filters2: 32\n",
      "filters3: 64\n",
      "dropout1: 0.4\n",
      "dropout2: 0.4\n",
      "dropout3: 0.4\n",
      "units: 512\n",
      "dropout4: 0.4\n",
      "tuner/epochs: 10\n",
      "tuner/initial_epoch: 4\n",
      "tuner/bracket: 1\n",
      "tuner/round: 1\n",
      "tuner/trial_id: c0e693d3edc8fe251ec2cfce9591e15a\n",
      "Score: 1.6489157676696777\n",
      "Trial summary\n",
      "Hyperparameters:\n",
      "filters1: 128\n",
      "filters2: 32\n",
      "filters3: 64\n",
      "dropout1: 0.0\n",
      "dropout2: 0.2\n",
      "dropout3: 0.0\n",
      "units: 128\n",
      "dropout4: 0.2\n",
      "tuner/epochs: 10\n",
      "tuner/initial_epoch: 4\n",
      "tuner/bracket: 2\n",
      "tuner/round: 2\n",
      "tuner/trial_id: 00b3911992edec1bf780d644d901e157\n",
      "Score: 1.784618616104126\n",
      "Trial summary\n",
      "Hyperparameters:\n",
      "filters1: 32\n",
      "filters2: 32\n",
      "filters3: 64\n",
      "dropout1: 0.4\n",
      "dropout2: 0.2\n",
      "dropout3: 0.2\n",
      "units: 512\n",
      "dropout4: 0.2\n",
      "tuner/epochs: 10\n",
      "tuner/initial_epoch: 4\n",
      "tuner/bracket: 1\n",
      "tuner/round: 1\n",
      "tuner/trial_id: 59301d4105c2bdb316a14314a9e2722d\n",
      "Score: 1.9973652362823486\n",
      "Trial summary\n",
      "Hyperparameters:\n",
      "filters1: 128\n",
      "filters2: 32\n",
      "filters3: 64\n",
      "dropout1: 0.4\n",
      "dropout2: 0.4\n",
      "dropout3: 0.4\n",
      "units: 512\n",
      "dropout4: 0.4\n",
      "tuner/epochs: 4\n",
      "tuner/initial_epoch: 0\n",
      "tuner/bracket: 1\n",
      "tuner/round: 0\n",
      "Score: 2.0152947902679443\n",
      "Trial summary\n",
      "Hyperparameters:\n",
      "filters1: 32\n",
      "filters2: 32\n",
      "filters3: 64\n",
      "dropout1: 0.4\n",
      "dropout2: 0.2\n",
      "dropout3: 0.2\n",
      "units: 512\n",
      "dropout4: 0.2\n",
      "tuner/epochs: 4\n",
      "tuner/initial_epoch: 0\n",
      "tuner/bracket: 1\n",
      "tuner/round: 0\n",
      "Score: 2.2049202919006348\n",
      "Trial summary\n",
      "Hyperparameters:\n",
      "filters1: 64\n",
      "filters2: 32\n",
      "filters3: 64\n",
      "dropout1: 0.2\n",
      "dropout2: 0.0\n",
      "dropout3: 0.4\n",
      "units: 512\n",
      "dropout4: 0.0\n",
      "tuner/epochs: 2\n",
      "tuner/initial_epoch: 0\n",
      "tuner/bracket: 2\n",
      "tuner/round: 0\n",
      "Score: 2.3411412239074707\n",
      "Trial summary\n",
      "Hyperparameters:\n",
      "filters1: 64\n",
      "filters2: 32\n",
      "filters3: 64\n",
      "dropout1: 0.2\n",
      "dropout2: 0.0\n",
      "dropout3: 0.4\n",
      "units: 512\n",
      "dropout4: 0.0\n",
      "tuner/epochs: 4\n",
      "tuner/initial_epoch: 2\n",
      "tuner/bracket: 2\n",
      "tuner/round: 1\n",
      "tuner/trial_id: 114bfb34b7baf5492865092f1231c62a\n",
      "Score: 2.6436047554016113\n"
     ]
    }
   ],
   "source": [
    "# Init tuner\n",
    "tuner = kt.Hyperband(\n",
    "    build_model,\n",
    "    objective='val_loss',\n",
    "    max_epochs = 10,\n",
    "    project_name='HB_project')\n",
    "tuner.search(tg, epochs=10, validation_data=vg, callbacks=[TensorBoard(\"/tmp/HB_opt\")],)\n",
    "best_model_hb = tuner.get_best_models()[0]\n",
    "\n",
    "# Getting results\n",
    "tuner.results_summary()"
   ]
  },
  {
   "cell_type": "markdown",
   "id": "c20805dd",
   "metadata": {},
   "source": [
    "### Visualizing the optimization using TensorBoard"
   ]
  },
  {
   "cell_type": "markdown",
   "id": "a1d1f1e5",
   "metadata": {},
   "source": [
    "Loading the results"
   ]
  },
  {
   "cell_type": "code",
   "execution_count": 23,
   "id": "692cd8a5",
   "metadata": {},
   "outputs": [
    {
     "data": {
      "text/html": [
       "\n",
       "      <iframe id=\"tensorboard-frame-beee43f01670837\" width=\"100%\" height=\"800\" frameborder=\"0\">\n",
       "      </iframe>\n",
       "      <script>\n",
       "        (function() {\n",
       "          const frame = document.getElementById(\"tensorboard-frame-beee43f01670837\");\n",
       "          const url = new URL(\"/\", window.location);\n",
       "          const port = 8088;\n",
       "          if (port) {\n",
       "            url.port = port;\n",
       "          }\n",
       "          frame.src = url;\n",
       "        })();\n",
       "      </script>\n",
       "    "
      ],
      "text/plain": [
       "<IPython.core.display.HTML object>"
      ]
     },
     "metadata": {},
     "output_type": "display_data"
    }
   ],
   "source": [
    "%load_ext tensorboard\n",
    "%tensorboard --logdir /tmp/HB_opt\n",
    "#%tensorboard --logdir /tmp/BO_opt"
   ]
  },
  {
   "cell_type": "markdown",
   "id": "9bc8ca69",
   "metadata": {},
   "source": [
    "### Further training of the best model"
   ]
  },
  {
   "cell_type": "markdown",
   "id": "72e5cec0",
   "metadata": {},
   "source": [
    "For a better accuracy, we need to train the best found model further.\n",
    "This model was found by the Hyperband algorythm (With the BO, we saw high overfitting)"
   ]
  },
  {
   "cell_type": "code",
   "execution_count": 13,
   "id": "e7948b54",
   "metadata": {
    "scrolled": true
   },
   "outputs": [
    {
     "name": "stdout",
     "output_type": "stream",
     "text": [
      "Epoch 1/100\n",
      "1353/1353 [==============================] - 178s 128ms/step - loss: 1.0261 - accuracy: 0.6963 - val_loss: 1.1000 - val_accuracy: 0.6735\n",
      "\n",
      "Epoch 00001: val_loss improved from inf to 1.10003, saving model to BestModel.hdf5\n",
      "Epoch 2/100\n",
      "1353/1353 [==============================] - 166s 123ms/step - loss: 0.8533 - accuracy: 0.7393 - val_loss: 1.0515 - val_accuracy: 0.6902\n",
      "\n",
      "Epoch 00002: val_loss improved from 1.10003 to 1.05149, saving model to BestModel.hdf5\n",
      "Epoch 3/100\n",
      "1353/1353 [==============================] - 166s 122ms/step - loss: 0.7842 - accuracy: 0.7633 - val_loss: 1.2146 - val_accuracy: 0.6390\n",
      "\n",
      "Epoch 00003: val_loss did not improve from 1.05149\n",
      "Epoch 4/100\n",
      "1353/1353 [==============================] - 172s 127ms/step - loss: 0.7019 - accuracy: 0.7878 - val_loss: 3.3310 - val_accuracy: 0.6529\n",
      "\n",
      "Epoch 00004: val_loss did not improve from 1.05149\n",
      "Epoch 5/100\n",
      "1353/1353 [==============================] - 157s 116ms/step - loss: 0.7086 - accuracy: 0.7843 - val_loss: 0.9417 - val_accuracy: 0.7467\n",
      "\n",
      "Epoch 00005: val_loss improved from 1.05149 to 0.94174, saving model to BestModel.hdf5\n",
      "Epoch 6/100\n",
      "1353/1353 [==============================] - 152s 112ms/step - loss: 0.6076 - accuracy: 0.8125 - val_loss: 1.5144 - val_accuracy: 0.6835\n",
      "\n",
      "Epoch 00006: val_loss did not improve from 0.94174\n",
      "Epoch 7/100\n",
      "1353/1353 [==============================] - 150s 111ms/step - loss: 0.5694 - accuracy: 0.8254 - val_loss: 0.9545 - val_accuracy: 0.7161\n",
      "\n",
      "Epoch 00007: val_loss did not improve from 0.94174\n",
      "Epoch 8/100\n",
      "1353/1353 [==============================] - 158s 117ms/step - loss: 0.5509 - accuracy: 0.8302 - val_loss: 0.8833 - val_accuracy: 0.7287\n",
      "\n",
      "Epoch 00008: val_loss improved from 0.94174 to 0.88332, saving model to BestModel.hdf5\n",
      "Epoch 9/100\n",
      "1353/1353 [==============================] - 156s 115ms/step - loss: 0.5226 - accuracy: 0.8404 - val_loss: 1.0616 - val_accuracy: 0.6835\n",
      "\n",
      "Epoch 00009: val_loss did not improve from 0.88332\n",
      "Epoch 10/100\n",
      "1353/1353 [==============================] - 157s 116ms/step - loss: 0.4791 - accuracy: 0.8528 - val_loss: 0.9493 - val_accuracy: 0.7400\n",
      "\n",
      "Epoch 00010: val_loss did not improve from 0.88332\n",
      "Epoch 11/100\n",
      "1353/1353 [==============================] - 152s 113ms/step - loss: 0.4647 - accuracy: 0.8565 - val_loss: 0.9801 - val_accuracy: 0.7134\n",
      "\n",
      "Epoch 00011: val_loss did not improve from 0.88332\n",
      "Epoch 12/100\n",
      "1353/1353 [==============================] - 159s 117ms/step - loss: 0.4610 - accuracy: 0.8594 - val_loss: 1.8884 - val_accuracy: 0.6902\n",
      "\n",
      "Epoch 00012: val_loss did not improve from 0.88332\n",
      "Epoch 13/100\n",
      "1353/1353 [==============================] - 155s 115ms/step - loss: 0.4342 - accuracy: 0.8656 - val_loss: 1.7187 - val_accuracy: 0.6822\n",
      "\n",
      "Epoch 00013: val_loss did not improve from 0.88332\n",
      "Epoch 14/100\n",
      "1353/1353 [==============================] - 161s 119ms/step - loss: 0.4571 - accuracy: 0.8617 - val_loss: 1.5520 - val_accuracy: 0.7088\n",
      "\n",
      "Epoch 00014: val_loss did not improve from 0.88332\n",
      "Epoch 15/100\n",
      "1353/1353 [==============================] - 159s 117ms/step - loss: 0.4005 - accuracy: 0.8769 - val_loss: 1.0775 - val_accuracy: 0.7101\n",
      "\n",
      "Epoch 00015: val_loss did not improve from 0.88332\n",
      "Epoch 16/100\n",
      "1353/1353 [==============================] - 149s 110ms/step - loss: 0.3839 - accuracy: 0.8831 - val_loss: 0.9924 - val_accuracy: 0.7267\n",
      "\n",
      "Epoch 00016: val_loss did not improve from 0.88332\n",
      "Epoch 17/100\n",
      "1353/1353 [==============================] - 152s 112ms/step - loss: 0.4047 - accuracy: 0.8768 - val_loss: 1.3097 - val_accuracy: 0.6137\n",
      "\n",
      "Epoch 00017: val_loss did not improve from 0.88332\n",
      "Epoch 18/100\n",
      "1353/1353 [==============================] - 151s 111ms/step - loss: 0.4014 - accuracy: 0.8788 - val_loss: 1.0425 - val_accuracy: 0.6895\n",
      "\n",
      "Epoch 00018: val_loss did not improve from 0.88332\n"
     ]
    },
    {
     "data": {
      "text/plain": [
       "<keras.callbacks.History at 0x1e567a10550>"
      ]
     },
     "execution_count": 13,
     "metadata": {},
     "output_type": "execute_result"
    }
   ],
   "source": [
    "# Training with early stopping callbacks\n",
    "from tensorflow.keras.callbacks import EarlyStopping, ModelCheckpoint\n",
    "\n",
    "# The best model was found by the hyperband algorithm\n",
    "best_model = best_model_hb\n",
    "\n",
    "# Adding callback functions\n",
    "callback = EarlyStopping(monitor='val_loss', patience=10)\n",
    "checkpoint = ModelCheckpoint(monitor='val_loss', filepath='BestModel.hdf5', save_best_only=True, verbose=1)\n",
    "# Model training\n",
    "best_model.fit(tg, validation_data=vg,callbacks=[checkpoint, callback],\n",
    "              epochs=100, verbose=1)"
   ]
  },
  {
   "cell_type": "markdown",
   "id": "cff3e118",
   "metadata": {},
   "source": [
    "### Testing and visualizing the results"
   ]
  },
  {
   "cell_type": "markdown",
   "id": "5b3b15de",
   "metadata": {},
   "source": [
    "Visualizing with a confusion matrix, we can check the proper operation of the model by getting the diagonal in the matrix as shown below."
   ]
  },
  {
   "cell_type": "code",
   "execution_count": 14,
   "id": "299213dd",
   "metadata": {},
   "outputs": [
    {
     "name": "stdout",
     "output_type": "stream",
     "text": [
      "WARNING:tensorflow:Error in loading the saved optimizer state. As a result, your model is starting with a freshly initialized optimizer.\n"
     ]
    },
    {
     "data": {
      "image/png": "[encoded data removed]",
      "text/plain": [
       "<Figure size 1800x1080 with 2 Axes>"
      ]
     },
     "metadata": {
      "needs_background": "light"
     },
     "output_type": "display_data"
    }
   ],
   "source": [
    "from tensorflow.keras.models import load_model\n",
    "from sklearn.metrics import confusion_matrix, ConfusionMatrixDisplay\n",
    "from sklearn.metrics import accuracy_score\n",
    "\n",
    "#Loading the best model\n",
    "model = load_model('BestModel.hdf5')\n",
    "#prediction\n",
    "predictions = np.argmax(model.predict(testg), axis=-1)\n",
    "#Visualization\n",
    "c_matrix = confusion_matrix(label_test, predictions)\n",
    "disp = ConfusionMatrixDisplay(confusion_matrix=c_matrix)\n",
    "plt.rcParams['figure.figsize'] = [25, 15]\n",
    "disp.plot(cmap=plt.cm.Blues)\n",
    "plt.show()\n",
    "acc = accuracy_score(label_test, predictions)"
   ]
  },
  {
   "cell_type": "markdown",
   "id": "f54891c3",
   "metadata": {},
   "source": [
    "We need to decode the IDs to names."
   ]
  },
  {
   "cell_type": "code",
   "execution_count": 15,
   "id": "6e89e04d",
   "metadata": {},
   "outputs": [],
   "source": [
    "# Output decoding\n",
    "def label_to_name(label):\n",
    "    return df.iloc[label]['name']"
   ]
  },
  {
   "cell_type": "markdown",
   "id": "e24d7ba3",
   "metadata": {},
   "source": [
    "Printing a few results:"
   ]
  },
  {
   "cell_type": "code",
   "execution_count": 16,
   "id": "13414755",
   "metadata": {
    "scrolled": true
   },
   "outputs": [
    {
     "name": "stdout",
     "output_type": "stream",
     "text": [
      "The actual person:  Ana_Gasteyer\n",
      "The predicted person:  Ana_Gasteyer\n",
      "The actual person:  Alexandra_Daddario\n",
      "The predicted person:  Alexandra_Daddario\n",
      "The actual person:  Alexa_Davalos\n",
      "The predicted person:  Alexa_Davalos\n",
      "The actual person:  Abigail_Breslin\n",
      "The predicted person:  Amy_Schumer\n",
      "The actual person:  Abbie_Cornish\n",
      "The predicted person:  Abbie_Cornish\n",
      "The actual person:  Alice_Eve\n",
      "The predicted person:  Alison_Pill\n",
      "The actual person:  Alexandra_Roach\n",
      "The predicted person:  Alexandra_Roach\n",
      "The actual person:  Amaury_Nolasco\n",
      "The predicted person:  Amaury_Nolasco\n",
      "The actual person:  Alex_Borstein\n",
      "The predicted person:  Alfre_Woodard\n",
      "The actual person:  Amber_Riley\n",
      "The predicted person:  Amber_Riley\n"
     ]
    }
   ],
   "source": [
    "# Show a few results\n",
    "for i in range(10):\n",
    "    print(\"The actual person: \" , label_to_name(label_test[i]))\n",
    "    print(\"The predicted person: \" , label_to_name(predictions[i]))"
   ]
  },
  {
   "cell_type": "markdown",
   "id": "03d1e582",
   "metadata": {},
   "source": [
    "Printing the test accuracy:"
   ]
  },
  {
   "cell_type": "code",
   "execution_count": 17,
   "id": "203794f2",
   "metadata": {},
   "outputs": [
    {
     "name": "stdout",
     "output_type": "stream",
     "text": [
      "Accuracy: 68.13%\n"
     ]
    }
   ],
   "source": [
    "print(\"Accuracy: {:.2f}%\".format((acc*100)))"
   ]
  },
  {
   "cell_type": "markdown",
   "id": "f0ec393e",
   "metadata": {},
   "source": [
    "A great way to evaluate a classification model is the EER (Equal Error Rate):"
   ]
  },
  {
   "cell_type": "code",
   "execution_count": 20,
   "id": "9f5b8884",
   "metadata": {},
   "outputs": [
    {
     "name": "stdout",
     "output_type": "stream",
     "text": [
      "EER: 6.22%\n"
     ]
    }
   ],
   "source": [
    "import statistics\n",
    "from sklearn.metrics import roc_curve, auc\n",
    "\n",
    "pred = model.predict(testg)\n",
    "EER = []\n",
    "for i in range(num_of_classes): \n",
    "    fpr, tpr, threshold = roc_curve(label_test, pred[:,i], pos_label=i)\n",
    "    fnr = 1 - tpr\n",
    "    eer_threshold = threshold[np.nanargmin(np.absolute((fnr - fpr)))]\n",
    "    EER.append(fpr[np.nanargmin(np.absolute((fnr - fpr)))])\n",
    "# Calculate EER\n",
    "print(\"EER: {:.2f}%\".format((statistics.median(EER) * 100)))"
   ]
  },
  {
   "cell_type": "markdown",
   "id": "a751d746",
   "metadata": {},
   "source": [
    "As a visualization, let's draw the ROC curve!"
   ]
  },
  {
   "cell_type": "code",
   "execution_count": 29,
   "id": "470252b7",
   "metadata": {},
   "outputs": [
    {
     "data": {
      "image/png": "[encoded data removed]",
      "text/plain": [
       "<Figure size 1800x1080 with 1 Axes>"
      ]
     },
     "metadata": {
      "needs_background": "light"
     },
     "output_type": "display_data"
    }
   ],
   "source": [
    "from sklearn.metrics import auc\n",
    "\n",
    "# Compute ROC curve and ROC area for each class\n",
    "fpr = dict()\n",
    "tpr = dict()\n",
    "roc_auc = dict()\n",
    "for i in range(num_of_classes):\n",
    "    fpr[i], tpr[i], threshold  = roc_curve(label_test, pred[:, i], pos_label = i)\n",
    "    roc_auc[i] = auc(fpr[i], tpr[i])\n",
    "\n",
    "# Plot of a ROC curve for a specific class\n",
    "for i in range(num_of_classes):\n",
    "    plt.plot(fpr[i], tpr[i], label='ROC curve (area = %0.2f)' % roc_auc[i])\n",
    "    plt.plot([0, 1], [0, 1], 'k--')\n",
    "plt.xlim([0.0, 1.0])\n",
    "plt.ylim([0.0, 1.05])\n",
    "plt.xlabel('False Positive Rate')\n",
    "plt.ylabel('True Positive Rate')\n",
    "plt.title('Reciever Operating Characterisrics')\n",
    "plt.legend(loc=\"lower right\")\n",
    "plt.show()"
   ]
  },
  {
   "cell_type": "markdown",
   "id": "d1bfd093",
   "metadata": {},
   "source": [
    "As the result of the optimizations, we have got the following model:"
   ]
  },
  {
   "cell_type": "code",
   "execution_count": 74,
   "id": "4ebd8321",
   "metadata": {},
   "outputs": [
    {
     "name": "stdout",
     "output_type": "stream",
     "text": [
      "Model: \"sequential\"\n",
      "_________________________________________________________________\n",
      "Layer (type)                 Output Shape              Param #   \n",
      "=================================================================\n",
      "conv2d (Conv2D)              (None, 129, 142, 64)      640       \n",
      "_________________________________________________________________\n",
      "activation (Activation)      (None, 129, 142, 64)      0         \n",
      "_________________________________________________________________\n",
      "conv2d_1 (Conv2D)            (None, 127, 140, 128)     73856     \n",
      "_________________________________________________________________\n",
      "activation_1 (Activation)    (None, 127, 140, 128)     0         \n",
      "_________________________________________________________________\n",
      "max_pooling2d (MaxPooling2D) (None, 63, 70, 128)       0         \n",
      "_________________________________________________________________\n",
      "dropout (Dropout)            (None, 63, 70, 128)       0         \n",
      "_________________________________________________________________\n",
      "conv2d_2 (Conv2D)            (None, 63, 70, 128)       147584    \n",
      "_________________________________________________________________\n",
      "activation_2 (Activation)    (None, 63, 70, 128)       0         \n",
      "_________________________________________________________________\n",
      "conv2d_3 (Conv2D)            (None, 61, 68, 128)       147584    \n",
      "_________________________________________________________________\n",
      "activation_3 (Activation)    (None, 61, 68, 128)       0         \n",
      "_________________________________________________________________\n",
      "max_pooling2d_1 (MaxPooling2 (None, 30, 34, 128)       0         \n",
      "_________________________________________________________________\n",
      "dropout_1 (Dropout)          (None, 30, 34, 128)       0         \n",
      "_________________________________________________________________\n",
      "conv2d_4 (Conv2D)            (None, 30, 34, 64)        73792     \n",
      "_________________________________________________________________\n",
      "activation_4 (Activation)    (None, 30, 34, 64)        0         \n",
      "_________________________________________________________________\n",
      "conv2d_5 (Conv2D)            (None, 28, 32, 64)        36928     \n",
      "_________________________________________________________________\n",
      "activation_5 (Activation)    (None, 28, 32, 64)        0         \n",
      "_________________________________________________________________\n",
      "max_pooling2d_2 (MaxPooling2 (None, 14, 16, 64)        0         \n",
      "_________________________________________________________________\n",
      "dropout_2 (Dropout)          (None, 14, 16, 64)        0         \n",
      "_________________________________________________________________\n",
      "flatten (Flatten)            (None, 14336)             0         \n",
      "_________________________________________________________________\n",
      "dense (Dense)                (None, 512)               7340544   \n",
      "_________________________________________________________________\n",
      "activation_6 (Activation)    (None, 512)               0         \n",
      "_________________________________________________________________\n",
      "dropout_3 (Dropout)          (None, 512)               0         \n",
      "_________________________________________________________________\n",
      "dense_1 (Dense)              (None, 50)                25650     \n",
      "=================================================================\n",
      "Total params: 7,846,578\n",
      "Trainable params: 7,846,578\n",
      "Non-trainable params: 0\n",
      "_________________________________________________________________\n"
     ]
    }
   ],
   "source": [
    "#The parameters of the final model\n",
    "model.summary()"
   ]
  },
  {
   "cell_type": "markdown",
   "id": "fe06bfb0",
   "metadata": {},
   "source": [
    "### Building new models with different input parameters"
   ]
  },
  {
   "cell_type": "markdown",
   "id": "b1a0ffb1",
   "metadata": {},
   "source": [
    "For a better understanding, we wanted to test our model with different input parameters.\n",
    "\n",
    "The first test was to check the result with higher number of classes:"
   ]
  },
  {
   "cell_type": "markdown",
   "id": "f2e1968d",
   "metadata": {},
   "source": [
    "#### num_of_classes = 200"
   ]
  },
  {
   "cell_type": "markdown",
   "id": "f4faf2e7",
   "metadata": {},
   "source": [
    "We have to run the following code again."
   ]
  },
  {
   "cell_type": "code",
   "execution_count": 24,
   "id": "3cf0ca93",
   "metadata": {},
   "outputs": [
    {
     "data": {
      "image/png": "[encoded data removed]",
      "text/plain": [
       "<Figure size 432x288 with 1 Axes>"
      ]
     },
     "metadata": {
      "needs_background": "light"
     },
     "output_type": "display_data"
    }
   ],
   "source": [
    "import matplotlib.pyplot as plt\n",
    "\n",
    "# Storing th dataset (can be imbalanced)\n",
    "wav_paths = []\n",
    "classes = []\n",
    "counts=[]\n",
    "\n",
    "# To store the balanced dataset\n",
    "new_class=[]\n",
    "new_wav_path=[]\n",
    "\n",
    "# Number of person we want to work with (up to ~1200)\n",
    "num_of_classes=200\n",
    "\n",
    "# Storing the paths for every audio files\n",
    "for i in range(num_of_classes):\n",
    "    temp=iterate(df.iloc[i]['relative_path'],wav_paths, classes, i)\n",
    "    counts.append(temp)\n",
    "    \n",
    "# List to array\n",
    "classes = np.array(classes)\n",
    "\n",
    "# Making hystogram for visualizing the dataset\n",
    "ls=[]\n",
    "for i in counts:\n",
    "    if i not in ls:\n",
    "        ls.append(i)\n",
    "plt.hist(ls, bins=len(ls), range=(0, 2000))\n",
    "plt.title(\"The histogram of the dataset\")\n",
    "plt.xlabel(\"Quantity of data\")\n",
    "plt.ylabel(\"Number of people\")\n",
    "plt.show()\n",
    "\n",
    "# Balancing the dataset\n",
    "temp=-1\n",
    "counter=10000\n",
    "\n",
    "for i in range(len(wav_paths)):\n",
    "    if temp!=classes[i]:\n",
    "        if counter<(int)(np.average(counts)+30):\n",
    "            start=i-counter\n",
    "            end = i-1\n",
    "            j=0\n",
    "            while counter < (int)(np.average(counts)+30):\n",
    "                new_wav_path.append(wav_paths[start+j])\n",
    "                new_class.append(classes[start+j])\n",
    "                j+=1\n",
    "                if start+j+1 >end:\n",
    "                    j=0\n",
    "                counter += 1\n",
    "        temp=classes[i]\n",
    "        counter=0\n",
    "    if counter<(int)(np.average(counts)+30):\n",
    "        new_wav_path.append(wav_paths[i])\n",
    "        new_class.append(classes[i])\n",
    "        counter+=1\n",
    "counter=0\n",
    "temp=-1"
   ]
  },
  {
   "cell_type": "markdown",
   "id": "842f8f5c",
   "metadata": {},
   "source": [
    "Separation of the new dataset"
   ]
  },
  {
   "cell_type": "code",
   "execution_count": 25,
   "id": "a2511ab4",
   "metadata": {},
   "outputs": [],
   "source": [
    "from sklearn.model_selection import train_test_split\n",
    "\n",
    "# Separation of train, test and validation data\n",
    "wav_train, wav_test, label_train, label_test = train_test_split(new_wav_path, new_class, test_size=0.1)\n",
    "wav_train, wav_val, label_train, label_val = train_test_split(wav_train, label_train, test_size=0.22)"
   ]
  },
  {
   "cell_type": "markdown",
   "id": "26efc26b",
   "metadata": {},
   "source": [
    "Setting the input dimensions of the new dataset (it remained the same for now)."
   ]
  },
  {
   "cell_type": "code",
   "execution_count": 26,
   "id": "e0678a17",
   "metadata": {},
   "outputs": [],
   "source": [
    "from scipy import signal\n",
    "\n",
    "# The length of an audio data\n",
    "dt = 2\n",
    "# We process one audio file to get the input dimensions\n",
    "aud = audio_open(wav_train[0])\n",
    "aud, sr = pad_trunc(aud, 8, dt*1000)\n",
    "# Generating spectogram\n",
    "freq, time, spec = signal.spectrogram(aud[0], sr)\n",
    "spec = np.reshape(spec, (spec.shape[0], spec.shape[1], 1))\n",
    "# Getting the input dimension for the model\n",
    "dim = spec.shape"
   ]
  },
  {
   "cell_type": "markdown",
   "id": "cab3adce",
   "metadata": {},
   "source": [
    "#### The model is based on the best model of the optimizers"
   ]
  },
  {
   "cell_type": "code",
   "execution_count": 27,
   "id": "1c5ad9fd",
   "metadata": {},
   "outputs": [],
   "source": [
    "def model():\n",
    "    model = Sequential()\n",
    "    model.add(Conv2D(64, (3, 3), padding='same', input_shape=dim))\n",
    "    model.add(Activation('relu'))\n",
    "    model.add(Conv2D(128, (3, 3)))\n",
    "    model.add(Activation('relu'))\n",
    "    model.add(MaxPooling2D(pool_size=(2, 2)))\n",
    "    model.add(Dropout(0.2))\n",
    "    model.add(Conv2D(128, (3, 3), padding='same'))\n",
    "    model.add(Activation('relu'))\n",
    "    model.add(Conv2D(128, (3, 3)))\n",
    "    model.add(Activation('relu'))\n",
    "    model.add(MaxPooling2D(pool_size=(2, 2)))\n",
    "    model.add(Conv2D(64, (3, 3), padding='same'))\n",
    "    model.add(Activation('relu'))\n",
    "    model.add(Conv2D(64, (3, 3)))\n",
    "    model.add(Activation('relu'))\n",
    "    model.add(MaxPooling2D(pool_size=(2, 2)))\n",
    "    model.add(Dropout(0.4))\n",
    "    model.add(Flatten())\n",
    "    model.add(Dense(512))\n",
    "    model.add(Activation('relu'))\n",
    "    model.add(Dropout(0.4))\n",
    "    model.add(Dense(num_of_classes, activation='softmax'))\n",
    "    model.compile(loss='categorical_crossentropy', optimizer='adam', metrics=['accuracy'])\n",
    "    return model"
   ]
  },
  {
   "cell_type": "markdown",
   "id": "44419ad8",
   "metadata": {},
   "source": [
    "Creating the generators:"
   ]
  },
  {
   "cell_type": "code",
   "execution_count": 85,
   "id": "a72a84e1",
   "metadata": {},
   "outputs": [],
   "source": [
    "#Standardization and generator init\n",
    "scaler = preprocessing.StandardScaler()\n",
    "\n",
    "tg = TrainDataGenerator(wav_train, label_train, sr, dt,\n",
    "                       num_of_classes,augmentation_size=8, scaler=scaler, batch_size=32)\n",
    "vg = ValDataGenerator(wav_val, label_val, sr, dt,\n",
    "                       num_of_classes, scaler=scaler, batch_size=32)\n",
    "testg = ValDataGenerator(wav_test, label_test, sr, dt,\n",
    "                       num_of_classes, scaler=scaler, batch_size=1)"
   ]
  },
  {
   "cell_type": "markdown",
   "id": "bf803095",
   "metadata": {},
   "source": [
    "Training with early stopping."
   ]
  },
  {
   "cell_type": "code",
   "execution_count": 28,
   "id": "fe0a440d",
   "metadata": {},
   "outputs": [
    {
     "name": "stdout",
     "output_type": "stream",
     "text": [
      "Epoch 1/300\n",
      "5229/5229 [==============================] - 1053s 201ms/step - loss: 5.3020 - accuracy: 0.0041 - val_loss: 5.3019 - val_accuracy: 0.0049\n",
      "\n",
      "Epoch 00001: val_loss improved from inf to 5.30187, saving model to BestModel.hdf5\n",
      "Epoch 2/300\n",
      "5229/5229 [==============================] - 1044s 200ms/step - loss: 5.3003 - accuracy: 0.0044 - val_loss: 5.3039 - val_accuracy: 0.0032\n",
      "\n",
      "Epoch 00002: val_loss did not improve from 5.30187\n",
      "Epoch 3/300\n",
      "5229/5229 [==============================] - 1044s 200ms/step - loss: 5.3002 - accuracy: 0.0045 - val_loss: 5.3051 - val_accuracy: 0.0032\n",
      "\n",
      "Epoch 00003: val_loss did not improve from 5.30187\n",
      "Epoch 4/300\n",
      "5229/5229 [==============================] - 1060s 203ms/step - loss: 5.3001 - accuracy: 0.0044 - val_loss: 5.3055 - val_accuracy: 0.0041\n",
      "\n",
      "Epoch 00004: val_loss did not improve from 5.30187\n",
      "Epoch 5/300\n",
      "5229/5229 [==============================] - 1043s 199ms/step - loss: 5.3001 - accuracy: 0.0046 - val_loss: 5.3057 - val_accuracy: 0.0027\n",
      "\n",
      "Epoch 00005: val_loss did not improve from 5.30187\n",
      "Epoch 6/300\n",
      "5229/5229 [==============================] - 1044s 200ms/step - loss: 5.3001 - accuracy: 0.0048 - val_loss: 5.3059 - val_accuracy: 0.0027\n",
      "\n",
      "Epoch 00006: val_loss did not improve from 5.30187\n",
      "Epoch 7/300\n",
      "5229/5229 [==============================] - 1044s 200ms/step - loss: 5.3001 - accuracy: 0.0046 - val_loss: 5.3057 - val_accuracy: 0.0027\n",
      "\n",
      "Epoch 00007: val_loss did not improve from 5.30187\n",
      "Epoch 8/300\n",
      "5229/5229 [==============================] - 1045s 200ms/step - loss: 5.3001 - accuracy: 0.0049 - val_loss: 5.3057 - val_accuracy: 0.0041\n",
      "\n",
      "Epoch 00008: val_loss did not improve from 5.30187\n",
      "Epoch 9/300\n",
      "5229/5229 [==============================] - 1045s 200ms/step - loss: 5.3001 - accuracy: 0.0048 - val_loss: 5.3063 - val_accuracy: 0.0041\n",
      "\n",
      "Epoch 00009: val_loss did not improve from 5.30187\n",
      "Epoch 10/300\n",
      "5229/5229 [==============================] - 1064s 203ms/step - loss: 5.3001 - accuracy: 0.0052 - val_loss: 5.3061 - val_accuracy: 0.0027\n",
      "\n",
      "Epoch 00010: val_loss did not improve from 5.30187\n",
      "Epoch 11/300\n",
      "5229/5229 [==============================] - 1045s 200ms/step - loss: 5.3001 - accuracy: 0.0036 - val_loss: 5.3063 - val_accuracy: 0.0027\n",
      "\n",
      "Epoch 00011: val_loss did not improve from 5.30187\n",
      "Epoch 12/300\n",
      "5229/5229 [==============================] - 1045s 200ms/step - loss: 5.3001 - accuracy: 0.0048 - val_loss: 5.3062 - val_accuracy: 0.0027\n",
      "\n",
      "Epoch 00012: val_loss did not improve from 5.30187\n",
      "Epoch 13/300\n",
      "5229/5229 [==============================] - 1045s 200ms/step - loss: 5.3001 - accuracy: 0.0048 - val_loss: 5.3063 - val_accuracy: 0.0041\n",
      "\n",
      "Epoch 00013: val_loss did not improve from 5.30187\n",
      "Epoch 14/300\n",
      "5229/5229 [==============================] - 1045s 200ms/step - loss: 5.3002 - accuracy: 0.0047 - val_loss: 5.3062 - val_accuracy: 0.0027\n",
      "\n",
      "Epoch 00014: val_loss did not improve from 5.30187\n",
      "Epoch 15/300\n",
      "5229/5229 [==============================] - 1045s 200ms/step - loss: 5.3001 - accuracy: 0.0049 - val_loss: 5.3062 - val_accuracy: 0.0027\n",
      "\n",
      "Epoch 00015: val_loss did not improve from 5.30187\n",
      "Epoch 16/300\n",
      "5229/5229 [==============================] - 1045s 200ms/step - loss: 5.3001 - accuracy: 0.0053 - val_loss: 5.3058 - val_accuracy: 0.0039\n",
      "\n",
      "Epoch 00016: val_loss did not improve from 5.30187\n"
     ]
    },
    {
     "data": {
      "text/plain": [
       "<keras.callbacks.History at 0x1eeb1cdfa60>"
      ]
     },
     "execution_count": 28,
     "metadata": {},
     "output_type": "execute_result"
    }
   ],
   "source": [
    "tuned_model = model()\n",
    "\n",
    "#Adding callback functions\n",
    "callback = EarlyStopping(monitor='val_loss', patience=15)\n",
    "checkpoint = ModelCheckpoint(monitor='val_loss', filepath='BestModel.hdf5', save_best_only=True, verbose=1)\n",
    "#Model training\n",
    "tuned_model.fit(tg, validation_data=vg,callbacks=[checkpoint, callback],\n",
    "              epochs=300, verbose=1)"
   ]
  },
  {
   "cell_type": "markdown",
   "id": "f9a13b86",
   "metadata": {},
   "source": [
    "#### We can see a very low val_accuracy"
   ]
  },
  {
   "cell_type": "markdown",
   "id": "c9e1e8cf",
   "metadata": {},
   "source": [
    "#### Training with low audio length (1s)"
   ]
  },
  {
   "cell_type": "markdown",
   "id": "21165d61",
   "metadata": {},
   "source": [
    "We have to run some code again..."
   ]
  },
  {
   "cell_type": "code",
   "execution_count": 32,
   "id": "bb8791be",
   "metadata": {},
   "outputs": [
    {
     "data": {
      "image/png": "[encoded data removed]",
      "text/plain": [
       "<Figure size 432x288 with 1 Axes>"
      ]
     },
     "metadata": {
      "needs_background": "light"
     },
     "output_type": "display_data"
    }
   ],
   "source": [
    "import matplotlib.pyplot as plt\n",
    "\n",
    "# Storing th dataset (can be imbalanced)\n",
    "wav_paths = []\n",
    "classes = []\n",
    "counts=[]\n",
    "\n",
    "# To store the balanced dataset\n",
    "new_class=[]\n",
    "new_wav_path=[]\n",
    "\n",
    "# Number of person we want to work with (up to ~1200)\n",
    "num_of_classes=50\n",
    "\n",
    "# Storing the paths for every audio files\n",
    "for i in range(num_of_classes):\n",
    "    temp=iterate(df.iloc[i]['relative_path'],wav_paths, classes, i)\n",
    "    counts.append(temp)\n",
    "    \n",
    "# List to array\n",
    "classes = np.array(classes)\n",
    "\n",
    "# Making hystogram for visualizing the dataset\n",
    "ls=[]\n",
    "for i in counts:\n",
    "    if i not in ls:\n",
    "        ls.append(i)\n",
    "plt.hist(ls, bins=len(ls), range=(0, 2000))\n",
    "plt.title(\"The histogram of the dataset\")\n",
    "plt.xlabel(\"Quantity of data\")\n",
    "plt.ylabel(\"Number of people\")\n",
    "plt.show()\n",
    "\n",
    "# Balancing the dataset\n",
    "temp=-1\n",
    "counter=10000\n",
    "\n",
    "for i in range(len(wav_paths)):\n",
    "    if temp!=classes[i]:\n",
    "        if counter<(int)(np.average(counts)+30):\n",
    "            start=i-counter\n",
    "            end = i-1\n",
    "            j=0\n",
    "            while counter < (int)(np.average(counts)+30):\n",
    "                new_wav_path.append(wav_paths[start+j])\n",
    "                new_class.append(classes[start+j])\n",
    "                j+=1\n",
    "                if start+j+1 >end:\n",
    "                    j=0\n",
    "                counter += 1\n",
    "        temp=classes[i]\n",
    "        counter=0\n",
    "    if counter<(int)(np.average(counts)+30):\n",
    "        new_wav_path.append(wav_paths[i])\n",
    "        new_class.append(classes[i])\n",
    "        counter+=1\n",
    "counter=0\n",
    "temp=-1"
   ]
  },
  {
   "cell_type": "code",
   "execution_count": 33,
   "id": "d3161b19",
   "metadata": {},
   "outputs": [],
   "source": [
    "from sklearn.model_selection import train_test_split\n",
    "\n",
    "# Separation of train, test and validation data\n",
    "wav_train, wav_test, label_train, label_test = train_test_split(new_wav_path, new_class, test_size=0.1)\n",
    "wav_train, wav_val, label_train, label_val = train_test_split(wav_train, label_train, test_size=0.22)"
   ]
  },
  {
   "cell_type": "markdown",
   "id": "a11fef85",
   "metadata": {},
   "source": [
    "Here, we change the length to 1s."
   ]
  },
  {
   "cell_type": "code",
   "execution_count": 34,
   "id": "1f5d956f",
   "metadata": {},
   "outputs": [],
   "source": [
    "from scipy import signal\n",
    "\n",
    "# The length of an audio data\n",
    "dt = 1\n",
    "# We process one audio file to get the input dimensions\n",
    "aud = audio_open(wav_train[0])\n",
    "aud, sr = pad_trunc(aud, 8, dt*1000)\n",
    "# Generating spectogram\n",
    "freq, time, spec = signal.spectrogram(aud[0], sr)\n",
    "spec = np.reshape(spec, (spec.shape[0], spec.shape[1], 1))\n",
    "# Getting the input dimension for the model\n",
    "dim = spec.shape"
   ]
  },
  {
   "cell_type": "markdown",
   "id": "c657400f",
   "metadata": {},
   "source": [
    "The same model:"
   ]
  },
  {
   "cell_type": "code",
   "execution_count": 35,
   "id": "66c66c45",
   "metadata": {},
   "outputs": [],
   "source": [
    "def model():\n",
    "    model = Sequential()\n",
    "    model.add(Conv2D(64, (3, 3), padding='same', input_shape=dim))\n",
    "    model.add(Activation('relu'))\n",
    "    model.add(Conv2D(128, (3, 3)))\n",
    "    model.add(Activation('relu'))\n",
    "    model.add(MaxPooling2D(pool_size=(2, 2)))\n",
    "    model.add(Dropout(0.2))\n",
    "    model.add(Conv2D(128, (3, 3), padding='same'))\n",
    "    model.add(Activation('relu'))\n",
    "    model.add(Conv2D(128, (3, 3)))\n",
    "    model.add(Activation('relu'))\n",
    "    model.add(MaxPooling2D(pool_size=(2, 2)))\n",
    "    model.add(Conv2D(64, (3, 3), padding='same'))\n",
    "    model.add(Activation('relu'))\n",
    "    model.add(Conv2D(64, (3, 3)))\n",
    "    model.add(Activation('relu'))\n",
    "    model.add(MaxPooling2D(pool_size=(2, 2)))\n",
    "    model.add(Dropout(0.4))\n",
    "    model.add(Flatten())\n",
    "    model.add(Dense(512))\n",
    "    model.add(Activation('relu'))\n",
    "    model.add(Dropout(0.4))\n",
    "    model.add(Dense(num_of_classes, activation='softmax'))\n",
    "    model.compile(loss='categorical_crossentropy', optimizer='adam', metrics=['accuracy'])\n",
    "    return model"
   ]
  },
  {
   "cell_type": "code",
   "execution_count": 37,
   "id": "873289da",
   "metadata": {},
   "outputs": [],
   "source": [
    "#Standardization and generator init\n",
    "scaler = preprocessing.StandardScaler()\n",
    "\n",
    "tg = TrainDataGenerator(wav_train, label_train, sr, dt,\n",
    "                       num_of_classes,augmentation_size=8, scaler=scaler, batch_size=32)\n",
    "vg = ValDataGenerator(wav_val, label_val, sr, dt,\n",
    "                       num_of_classes, scaler=scaler, batch_size=32)\n",
    "testg = ValDataGenerator(wav_test, label_test, sr, dt,\n",
    "                       num_of_classes, scaler=scaler, batch_size=1)"
   ]
  },
  {
   "cell_type": "markdown",
   "id": "14c7d96d",
   "metadata": {},
   "source": [
    "The training:"
   ]
  },
  {
   "cell_type": "code",
   "execution_count": 38,
   "id": "77027d42",
   "metadata": {},
   "outputs": [
    {
     "name": "stdout",
     "output_type": "stream",
     "text": [
      "Epoch 1/300\n",
      "1353/1353 [==============================] - 123s 89ms/step - loss: 3.9141 - accuracy: 0.0184 - val_loss: 3.9117 - val_accuracy: 0.0120\n",
      "\n",
      "Epoch 00001: val_loss improved from inf to 3.91166, saving model to BestModel.hdf5\n",
      "Epoch 2/300\n",
      "1353/1353 [==============================] - 120s 89ms/step - loss: 3.9110 - accuracy: 0.0188 - val_loss: 3.9119 - val_accuracy: 0.0126\n",
      "\n",
      "Epoch 00002: val_loss did not improve from 3.91166\n",
      "Epoch 3/300\n",
      "1353/1353 [==============================] - 120s 89ms/step - loss: 3.9123 - accuracy: 0.0221 - val_loss: 3.9118 - val_accuracy: 0.0126\n",
      "\n",
      "Epoch 00003: val_loss did not improve from 3.91166\n",
      "Epoch 4/300\n",
      "1353/1353 [==============================] - 120s 89ms/step - loss: 3.9097 - accuracy: 0.0206 - val_loss: 3.9121 - val_accuracy: 0.0126\n",
      "\n",
      "Epoch 00004: val_loss did not improve from 3.91166\n",
      "Epoch 5/300\n",
      "1353/1353 [==============================] - 120s 89ms/step - loss: 3.9093 - accuracy: 0.0228 - val_loss: 3.9125 - val_accuracy: 0.0126\n",
      "\n",
      "Epoch 00005: val_loss did not improve from 3.91166\n",
      "Epoch 6/300\n",
      "1353/1353 [==============================] - 120s 89ms/step - loss: 3.9092 - accuracy: 0.0229 - val_loss: 3.9128 - val_accuracy: 0.0126\n",
      "\n",
      "Epoch 00006: val_loss did not improve from 3.91166\n",
      "Epoch 7/300\n",
      "1353/1353 [==============================] - 120s 89ms/step - loss: 3.9090 - accuracy: 0.0209 - val_loss: 3.9132 - val_accuracy: 0.0126\n",
      "\n",
      "Epoch 00007: val_loss did not improve from 3.91166\n",
      "Epoch 8/300\n",
      "1353/1353 [==============================] - 120s 89ms/step - loss: 3.9090 - accuracy: 0.0212 - val_loss: 3.9133 - val_accuracy: 0.0126\n",
      "\n",
      "Epoch 00008: val_loss did not improve from 3.91166\n",
      "Epoch 9/300\n",
      "1353/1353 [==============================] - 120s 89ms/step - loss: 3.9090 - accuracy: 0.0224 - val_loss: 3.9133 - val_accuracy: 0.0126\n",
      "\n",
      "Epoch 00009: val_loss did not improve from 3.91166\n",
      "Epoch 10/300\n",
      "1353/1353 [==============================] - 120s 89ms/step - loss: 3.9089 - accuracy: 0.0225 - val_loss: 3.9133 - val_accuracy: 0.0126\n",
      "\n",
      "Epoch 00010: val_loss did not improve from 3.91166\n",
      "Epoch 11/300\n",
      "1353/1353 [==============================] - 120s 89ms/step - loss: 3.9089 - accuracy: 0.0222 - val_loss: 3.9133 - val_accuracy: 0.0126\n",
      "\n",
      "Epoch 00011: val_loss did not improve from 3.91166\n",
      "Epoch 12/300\n",
      "1353/1353 [==============================] - 120s 89ms/step - loss: 3.9089 - accuracy: 0.0224 - val_loss: 3.9133 - val_accuracy: 0.0126\n",
      "\n",
      "Epoch 00012: val_loss did not improve from 3.91166\n",
      "Epoch 13/300\n",
      "1353/1353 [==============================] - 120s 89ms/step - loss: 3.9089 - accuracy: 0.0214 - val_loss: 3.9134 - val_accuracy: 0.0126\n",
      "\n",
      "Epoch 00013: val_loss did not improve from 3.91166\n",
      "Epoch 14/300\n",
      "1353/1353 [==============================] - 120s 89ms/step - loss: 3.9089 - accuracy: 0.0220 - val_loss: 3.9135 - val_accuracy: 0.0126\n",
      "\n",
      "Epoch 00014: val_loss did not improve from 3.91166\n",
      "Epoch 15/300\n",
      "1353/1353 [==============================] - 120s 89ms/step - loss: 3.9089 - accuracy: 0.0229 - val_loss: 3.9134 - val_accuracy: 0.0126\n",
      "\n",
      "Epoch 00015: val_loss did not improve from 3.91166\n",
      "Epoch 16/300\n",
      "1353/1353 [==============================] - 120s 89ms/step - loss: 3.9089 - accuracy: 0.0229 - val_loss: 3.9133 - val_accuracy: 0.0126\n",
      "\n",
      "Epoch 00016: val_loss did not improve from 3.91166\n"
     ]
    },
    {
     "data": {
      "text/plain": [
       "<keras.callbacks.History at 0x1ef343b4af0>"
      ]
     },
     "execution_count": 38,
     "metadata": {},
     "output_type": "execute_result"
    }
   ],
   "source": [
    "tuned_model = model()\n",
    "\n",
    "#Adding callback functions\n",
    "callback = EarlyStopping(monitor='val_loss', patience=15)\n",
    "checkpoint = ModelCheckpoint(monitor='val_loss', filepath='BestModel.hdf5', save_best_only=True, verbose=1)\n",
    "#Model training\n",
    "tuned_model.fit(tg, validation_data=vg,callbacks=[checkpoint, callback],\n",
    "              epochs=300, verbose=1)"
   ]
  },
  {
   "cell_type": "markdown",
   "id": "d915351a",
   "metadata": {},
   "source": [
    "#### Here, the val_accuracy was also very low"
   ]
  },
  {
   "cell_type": "code",
   "execution_count": null,
   "id": "9cc89ff3",
   "metadata": {},
   "outputs": [],
   "source": []
  }
 ],
 "metadata": {
  "kernelspec": {
   "display_name": "Python 3 (ipykernel)",
   "language": "python",
   "name": "python3"
  },
  "language_info": {
   "codemirror_mode": {
    "name": "ipython",
    "version": 3
   },
   "file_extension": ".py",
   "mimetype": "text/x-python",
   "name": "python",
   "nbconvert_exporter": "python",
   "pygments_lexer": "ipython3",
   "version": "3.9.7"
  }
 },
 "nbformat": 4,
 "nbformat_minor": 5
}
